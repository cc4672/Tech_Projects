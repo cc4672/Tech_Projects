{
  "nbformat": 4,
  "nbformat_minor": 0,
  "metadata": {
    "colab": {
      "provenance": []
    },
    "kernelspec": {
      "name": "python3",
      "display_name": "Python 3"
    },
    "language_info": {
      "name": "python"
    }
  },
  "cells": [
    {
      "cell_type": "markdown",
      "source": [
        "The simple web scrapper uses the following link: https://weather.com/weather/tenday/l/a496cfcba367ffae60ccfdc94e31bcf3d0a12ac6515336dbd274f381a932abbc\n",
        "\n",
        "It gets the date, high, low, weather type for NY for the next 10 days."
      ],
      "metadata": {
        "id": "rFxwUZBluSeS"
      }
    },
    {
      "cell_type": "code",
      "execution_count": null,
      "metadata": {
        "id": "e0mwM4DNtxw1"
      },
      "outputs": [],
      "source": [
        "import requests\n",
        "from bs4 import BeautifulSoup\n",
        "import pandas as pd"
      ]
    },
    {
      "cell_type": "code",
      "source": [
        "request=requests.get(\"https://weather.com/weather/tenday/l/a496cfcba367ffae60ccfdc94e31bcf3d0a12ac6515336dbd274f381a932abbc\")\n",
        "request.status_code"
      ],
      "metadata": {
        "id": "2EN-zlFxtyFM"
      },
      "execution_count": null,
      "outputs": []
    },
    {
      "cell_type": "code",
      "source": [
        "#Gets today's temperature\n",
        "info=BeautifulSoup(request.content, \"html.parser\")\n",
        "temp_today=info.find(\"span\",class_=\"DailyContent--temp--axgOn DailyContent--tempN--DPsDJ\")\n",
        "temp_today.text"
      ],
      "metadata": {
        "id": "0uzo8fSEtyHn"
      },
      "execution_count": null,
      "outputs": []
    },
    {
      "cell_type": "code",
      "source": [
        "#data=info.find_all(\"summary\", class_=\"Disclosure--Summary--kMIqY DaypartDetails--Summary--KWzwv Disclosure--hideBorderOnSummaryOpen--I3oNN\")\n",
        "# Fetch all the date elements\n",
        "date = info.find_all(\"h2\", class_=\"DetailsSummary--daypartName--CcVUz\")\n",
        "dates=[]\n",
        "# Loop over each date element and print its text content\n",
        "for each in date:\n",
        "    print(each.text)\n",
        "    dates.append(each.text)"
      ],
      "metadata": {
        "id": "tKgop_ZttyKC"
      },
      "execution_count": null,
      "outputs": []
    },
    {
      "cell_type": "code",
      "source": [
        "#Since dates have 'Tonight,' and I only want the dates, so I am dropping it from the list\n",
        "#May need a bit manual engineer depending of the time of day if using dates.remove('Tonight') or can use pop()\n",
        "dates.pop(0)"
      ],
      "metadata": {
        "id": "shFoN_qntyMx"
      },
      "execution_count": null,
      "outputs": []
    },
    {
      "cell_type": "code",
      "source": [
        "weather_type=[]\n",
        "\n",
        "weather= info.find_all('span',class_='DetailsSummary--extendedData--eJzhb')\n",
        "\n",
        "for each in weather:\n",
        "  print(each.text)\n",
        "  weather_type.append(each.text)\n"
      ],
      "metadata": {
        "id": "fXRruQzwt4ke"
      },
      "execution_count": null,
      "outputs": []
    },
    {
      "cell_type": "code",
      "source": [
        "#Similarly, drop/pop the first value for the weather type (e.g., sunny, cloudy, rainy, etc.)\n",
        "weather_type.pop(0)"
      ],
      "metadata": {
        "id": "Wv8BbLT4t4nD"
      },
      "execution_count": null,
      "outputs": []
    },
    {
      "cell_type": "code",
      "source": [
        "high_temp=[]\n",
        "low_temp=[]\n",
        "\n",
        "ht=info.find_all('span', class_='DetailsSummary--highTempValue--VHKaO')\n",
        "lt=info.find_all('span',class_='DetailsSummary--lowTempValue--ogrzb')\n"
      ],
      "metadata": {
        "id": "GhRd1ZpLt4qd"
      },
      "execution_count": null,
      "outputs": []
    },
    {
      "cell_type": "code",
      "source": [
        "for each in ht:\n",
        "  print(each.text)\n",
        "  high_temp.append(each.text)\n"
      ],
      "metadata": {
        "id": "XA-Y8RB8t4tV"
      },
      "execution_count": null,
      "outputs": []
    },
    {
      "cell_type": "code",
      "source": [
        "for each in lt:\n",
        "  print(each.text)\n",
        "  low_temp.append(each.text)"
      ],
      "metadata": {
        "id": "2It-palat4ws"
      },
      "execution_count": null,
      "outputs": []
    },
    {
      "cell_type": "code",
      "source": [
        "high_temp.pop(0)\n",
        "low_temp.pop(0)"
      ],
      "metadata": {
        "id": "w0ENWcrcuPTy"
      },
      "execution_count": null,
      "outputs": []
    },
    {
      "cell_type": "code",
      "source": [
        "df=pd.DataFrame({'Date':dates, 'Weather Type': weather_type, 'High Temp': high_temp, 'Low Temp': low_temp})\n",
        "df.head()"
      ],
      "metadata": {
        "id": "AG2gzPTbuPWe"
      },
      "execution_count": null,
      "outputs": []
    },
    {
      "cell_type": "code",
      "source": [],
      "metadata": {
        "id": "_RpE6wjLtyPP"
      },
      "execution_count": null,
      "outputs": []
    }
  ]
}