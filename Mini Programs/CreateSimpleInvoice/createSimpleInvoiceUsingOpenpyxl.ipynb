{
  "nbformat": 4,
  "nbformat_minor": 0,
  "metadata": {
    "colab": {
      "provenance": []
    },
    "kernelspec": {
      "name": "python3",
      "display_name": "Python 3"
    },
    "language_info": {
      "name": "python"
    }
  },
  "cells": [
    {
      "cell_type": "code",
      "execution_count": 1,
      "metadata": {
        "id": "rh7AGZxQ_Wr9"
      },
      "outputs": [],
      "source": [
        "from openpyxl import Workbook\n",
        "from openpyxl import load_workbook\n",
        "import pandas as pd\n",
        "import numpy as np\n",
        "import matplotlib.pyplot as plt"
      ]
    },
    {
      "cell_type": "code",
      "source": [
        "#Creating a sample invoice\n",
        "invoice1=Workbook()\n",
        "invoice1_sheet=invoice1.active\n",
        "invoice1_sheet['A1']='Invoice Number'\n",
        "invoice1_sheet['A2']='Date'\n",
        "invoice1_sheet['A3']='Customer Name'\n",
        "invoice1_sheet['A4']='Customer Address'\n",
        "invoice1_sheet['A5']='Customer Contact Number'\n",
        "\n",
        "invoice1_sheet['A7']='Item'\n",
        "invoice1_sheet['B7']='Quantity'\n",
        "invoice1_sheet['C7']='Unit Price'\n",
        "invoice1_sheet['D7']='Total Price'"
      ],
      "metadata": {
        "id": "6pWGyU_F_XKv"
      },
      "execution_count": 12,
      "outputs": []
    },
    {
      "cell_type": "code",
      "source": [
        "invoice_number=str(input('Please enter the invoice number: '))\n",
        "invoice_date=str(input('Please enter the date(MM/DD/YYYY): '))\n",
        "customer_name=str(input('Please enter the customer name: '))\n",
        "customer_address=str(input('Please enter the customer address: '))\n",
        "customer_contact=str(input('Please enter the customer contact number: '))\n",
        "\n",
        "invoice1_sheet['B1']=invoice_number\n",
        "invoice1_sheet['B2']=invoice_date\n",
        "invoice1_sheet['B3']=customer_name\n",
        "invoice1_sheet['B4']=customer_name\n",
        "invoice1_sheet['B5']=customer_contact"
      ],
      "metadata": {
        "colab": {
          "base_uri": "https://localhost:8080/"
        },
        "id": "T_-U_w8G_XNf",
        "outputId": "b25c83c6-8efa-4d21-db0d-7afd892678f8"
      },
      "execution_count": 13,
      "outputs": [
        {
          "name": "stdout",
          "output_type": "stream",
          "text": [
            "Please enter the invoice number: 88888\n",
            "Please enter the date(MM/DD/YYYY): 08/08/2008\n",
            "Please enter the customer name: Rich\n",
            "Please enter the customer address: 8 Rich Lane\n",
            "Please enter the customer contact number: 888-888-8888\n"
          ]
        }
      ]
    },
    {
      "cell_type": "code",
      "source": [
        "# Loop to input item details\n",
        "numItem=int(input('Please enter the number of items: '))\n",
        "\n",
        "\n",
        "for i in range(numItem):  # No need to specify (0, numItem), just range(numItem)\n",
        "    invoice1_sheet['A' + str(i + 8)] = str(input('Please enter the item: '))\n",
        "    invoice1_sheet['B' + str(i + 8)] = int(input('Please enter the quantity of that good: '))\n",
        "    invoice1_sheet['C' + str(i + 8)] = float(input('Please enter the unit price of that good: '))\n",
        "    invoice1_sheet['D' + str(i + 8)] = invoice1_sheet['B' + str(i + 8)].value * invoice1_sheet['C' + str(i + 8)].value\n",
        "\n",
        "    invoice1_sheet['A' + str(numItem + 8)] = 'Total Amount'\n",
        "\n",
        "# Correct way to sum values in column D\n",
        "total_amount = sum(invoice1_sheet['D' + str(i + 8)].value for i in range(numItem))\n",
        "invoice1_sheet['D' + str(numItem + 8)] = total_amount"
      ],
      "metadata": {
        "colab": {
          "base_uri": "https://localhost:8080/"
        },
        "id": "Bhk6I1SU_XQB",
        "outputId": "cd961235-0732-46ba-c36e-3c3fe0e8f4e5"
      },
      "execution_count": 15,
      "outputs": [
        {
          "name": "stdout",
          "output_type": "stream",
          "text": [
            "Please enter the number of items: 2\n",
            "Please enter the item: Strawberry\n",
            "Please enter the quantity of that good: 10\n",
            "Please enter the unit price of that good: 4\n",
            "Please enter the item: Pasta\n",
            "Please enter the quantity of that good: 2\n",
            "Please enter the unit price of that good: 20\n"
          ]
        }
      ]
    },
    {
      "cell_type": "code",
      "source": [
        "invoice1.save(filename=f'Invoice_{invoice_number}.xlsx')"
      ],
      "metadata": {
        "id": "kU7hGSZA_XSu"
      },
      "execution_count": 16,
      "outputs": []
    },
    {
      "cell_type": "code",
      "source": [],
      "metadata": {
        "id": "rZolMlYSA8FW"
      },
      "execution_count": null,
      "outputs": []
    },
    {
      "cell_type": "code",
      "source": [],
      "metadata": {
        "id": "Z5k9SVn4A8Hy"
      },
      "execution_count": null,
      "outputs": []
    },
    {
      "cell_type": "code",
      "source": [],
      "metadata": {
        "id": "Ds7chcOyA8KR"
      },
      "execution_count": null,
      "outputs": []
    },
    {
      "cell_type": "code",
      "source": [],
      "metadata": {
        "id": "b3w-Oo82_XVW"
      },
      "execution_count": null,
      "outputs": []
    }
  ]
}